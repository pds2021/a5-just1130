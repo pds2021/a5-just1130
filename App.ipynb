{
  "nbformat": 4,
  "nbformat_minor": 0,
  "metadata": {
    "colab": {
      "name": "Untitled2.ipynb",
      "provenance": [],
      "collapsed_sections": [],
      "authorship_tag": "ABX9TyNIHtk0d5JTR0r+8By4n7ea",
      "include_colab_link": true
    },
    "kernelspec": {
      "name": "python3",
      "display_name": "Python 3"
    }
  },
  "cells": [
    {
      "cell_type": "markdown",
      "metadata": {
        "id": "view-in-github",
        "colab_type": "text"
      },
      "source": [
        "<a href=\"https://colab.research.google.com/github/pds2021/a5-just1130/blob/master/App.ipynb\" target=\"_parent\"><img src=\"https://colab.research.google.com/assets/colab-badge.svg\" alt=\"Open In Colab\"/></a>"
      ]
    },
    {
      "cell_type": "code",
      "metadata": {
        "id": "9JwrGcN8aVLO"
      },
      "source": [
        "from fastai.vision.widgets import *\r\n",
        "from fastai.vision.all import *"
      ],
      "execution_count": null,
      "outputs": []
    },
    {
      "cell_type": "code",
      "metadata": {
        "id": "Ra4uEFQdRt1U"
      },
      "source": [
        "from fastai.vision.widgets import *\r\n",
        "from fastai.vision.all import *\r\n",
        "download_url('https://github.com/pds2021/a5-just1130/releases/download/modell/colorizeImages.pkl','colorize.pkl')\r\n",
        "imglearner = load_learner('colorize.pkl',cpu=True)\r\n",
        "btnUpload = widgets.FileUpload()\r\n",
        "btnAction = widgets.Button(description='colorize')\r\n",
        "outImg = widgets.Output()\r\n",
        "outPredicted = widgets.Output()\r\n",
        "\r\n",
        "def on_btn_click(change):\r\n",
        "  img = PILImage.create(btnUpload.data[-1])\r\n",
        "  global outImg\r\n",
        "  outImg.clear_output()\r\n",
        "  outPredicted.clear_output()\r\n",
        "  with outImg: display(img.to_thumb(512,512))\r\n",
        "  predicted = imglearner.predict(img)\r\n",
        "  outImg = PILImage.create(fn=predicted[0])\r\n",
        "  with outPredicted: display(outImg.to_thumb(512,512))\r\n",
        "\r\n",
        "btnAction.on_click(on_btn_click)\r\n",
        "VBox([widgets.Label('Wähle dein Schwarz/Weiß Bild'),\r\n",
        "      btnUpload,btnAction,outImg,outPredicted])"
      ],
      "execution_count": null,
      "outputs": []
    }
  ]
}